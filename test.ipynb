{
 "cells": [
  {
   "cell_type": "code",
   "execution_count": 1,
   "metadata": {},
   "outputs": [
    {
     "data": {
      "text/plain": [
       "True"
      ]
     },
     "execution_count": 1,
     "metadata": {},
     "output_type": "execute_result"
    }
   ],
   "source": [
    "import torch\n",
    "\n",
    "torch.cuda.is_available()"
   ]
  },
  {
   "cell_type": "markdown",
   "metadata": {},
   "source": [
    "mp = {1:2,3:4}"
   ]
  },
  {
   "cell_type": "code",
   "execution_count": null,
   "metadata": {},
   "outputs": [],
   "source": [
    "from typing import List\n",
    "from collections import defaultdict\n",
    "class Solution:\n",
    "    def longestCycle(self, edges: List[int]) -> int:\n",
    "        ans = -1\n",
    "        # 跑步，跑到重复的地方算时间\n",
    "        n = len(edges)\n",
    "        times = [0 for _ in range(n)]\n",
    "        for i in range(n):\n",
    "            if times[i] != 0:\n",
    "                continue\n",
    "            nex = i\n",
    "            t = 1\n",
    "            while edges[nex] != 0:\n",
    "                if nex == -1:\n",
    "                    break\n",
    "                nex = edges[nex]\n",
    "                times[nex] = t\n",
    "                t+=1\n",
    "            if nex!=-1:\n",
    "                ans = max(ans, t-edges[nex])\n",
    "        return ans\n",
    "        "
   ]
  },
  {
   "cell_type": "code",
   "execution_count": 2,
   "metadata": {},
   "outputs": [
    {
     "name": "stdout",
     "output_type": "stream",
     "text": [
      "2 4\n"
     ]
    }
   ],
   "source": [
    "mp = {1:2,3:4}\n",
    "a, b = mp.values()\n",
    "print(a, b)"
   ]
  }
 ],
 "metadata": {
  "kernelspec": {
   "display_name": "cs224n_dfp",
   "language": "python",
   "name": "python3"
  },
  "language_info": {
   "codemirror_mode": {
    "name": "ipython",
    "version": 3
   },
   "file_extension": ".py",
   "mimetype": "text/x-python",
   "name": "python",
   "nbconvert_exporter": "python",
   "pygments_lexer": "ipython3",
   "version": "3.8.20"
  }
 },
 "nbformat": 4,
 "nbformat_minor": 2
}
